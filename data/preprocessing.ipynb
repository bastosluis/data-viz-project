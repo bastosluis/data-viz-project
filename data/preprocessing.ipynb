{
  "nbformat": 4,
  "nbformat_minor": 0,
  "metadata": {
    "colab": {
      "provenance": []
    },
    "kernelspec": {
      "name": "python3",
      "display_name": "Python 3"
    },
    "language_info": {
      "name": "python"
    }
  },
  "cells": [
    {
      "cell_type": "code",
      "execution_count": null,
      "metadata": {
        "id": "WS4H0SapDwwb",
        "colab": {
          "base_uri": "https://localhost:8080/"
        },
        "outputId": "70981cea-fd20-4e6d-d74a-1c8582c10298"
      },
      "outputs": [
        {
          "output_type": "stream",
          "name": "stdout",
          "text": [
            "       year  Accidents_per_year  circuitId  Total_accidents  Race_count  \\\n",
            "0      2009               106.0          1            232.0          25   \n",
            "1      2009               106.0          1            232.0          25   \n",
            "2      2009               106.0          1            232.0          25   \n",
            "3      2009               106.0          1            232.0          25   \n",
            "4      2009               106.0          1            232.0          25   \n",
            "...     ...                 ...        ...              ...         ...   \n",
            "25664  2022                39.0         79              8.0           1   \n",
            "25665  2022                39.0         79              8.0           1   \n",
            "25666  2022                39.0         79              8.0           1   \n",
            "25667  2022                39.0         79              8.0           1   \n",
            "25668  2022                39.0         79              8.0           1   \n",
            "\n",
            "        circuitRef                          name_x   location    country  \\\n",
            "0      albert_park  Albert Park Grand Prix Circuit  Melbourne  Australia   \n",
            "1      albert_park  Albert Park Grand Prix Circuit  Melbourne  Australia   \n",
            "2      albert_park  Albert Park Grand Prix Circuit  Melbourne  Australia   \n",
            "3      albert_park  Albert Park Grand Prix Circuit  Melbourne  Australia   \n",
            "4      albert_park  Albert Park Grand Prix Circuit  Melbourne  Australia   \n",
            "...            ...                             ...        ...        ...   \n",
            "25664        miami   Miami International Autodrome      Miami        USA   \n",
            "25665        miami   Miami International Autodrome      Miami        USA   \n",
            "25666        miami   Miami International Autodrome      Miami        USA   \n",
            "25667        miami   Miami International Autodrome      Miami        USA   \n",
            "25668        miami   Miami International Autodrome      Miami        USA   \n",
            "\n",
            "           lat  ...  laps       time_y milliseconds  fastestLap  rank  \\\n",
            "0     -37.8497  ...  58.0  1:34:15.784      5655784          17     3   \n",
            "1     -37.8497  ...  58.0       +0.807      5656591          43    14   \n",
            "2     -37.8497  ...  58.0       +1.604      5657388          50    10   \n",
            "3     -37.8497  ...  58.0       +4.435      5660219          53     6   \n",
            "4     -37.8497  ...  58.0       +4.879      5660663          53     9   \n",
            "...        ...  ...   ...          ...          ...         ...   ...   \n",
            "25664  25.9581  ...  56.0           \\N           \\N          52    17   \n",
            "25665  25.9581  ...  54.0           \\N           \\N          50    16   \n",
            "25666  25.9581  ...  45.0           \\N           \\N          38    19   \n",
            "25667  25.9581  ...  39.0           \\N           \\N          37    14   \n",
            "25668  25.9581  ...   6.0           \\N           \\N           4    20   \n",
            "\n",
            "      fastestLapTime fastestLapSpeed statusId      status  \\\n",
            "0           1:28.020         216.891      1.0    Finished   \n",
            "1           1:29.066         214.344      1.0    Finished   \n",
            "2           1:28.916         214.706      1.0    Finished   \n",
            "3           1:28.416         215.920      1.0    Finished   \n",
            "4           1:28.712         215.199      1.0    Finished   \n",
            "...              ...             ...      ...         ...   \n",
            "25664       1:33.511         208.351     33.0  Front wing   \n",
            "25665       1:33.479         208.423      4.0   Collision   \n",
            "25666       1:34.487         206.199     22.0  Suspension   \n",
            "25667       1:33.411         208.575      4.0   Collision   \n",
            "25668       1:35.731         203.520     47.0  Water leak   \n",
            "\n",
            "                      image  \n",
            "0      data/albert_park.png  \n",
            "1      data/albert_park.png  \n",
            "2      data/albert_park.png  \n",
            "3      data/albert_park.png  \n",
            "4      data/albert_park.png  \n",
            "...                     ...  \n",
            "25664        data/miami.png  \n",
            "25665        data/miami.png  \n",
            "25666        data/miami.png  \n",
            "25667        data/miami.png  \n",
            "25668        data/miami.png  \n",
            "\n",
            "[25669 rows x 48 columns]\n"
          ]
        }
      ],
      "source": [
        "import pandas as pd\n",
        " \n",
        "races = pd.read_csv(\"races.csv\")\n",
        "circuits = pd.read_csv(\"circuits.csv\")\n",
        "\n",
        "# Merges:\n",
        "# merge circuits and races\n",
        "tempTable = pd.merge(circuits,races,how=\"left\",on=\"circuitId\") \n",
        "\n",
        "# calculate race count for each circuit\n",
        "occurCount = tempTable.groupby(['circuitId']).size()\n",
        "occurFrame = occurCount.to_frame(name=\"Race_count\")\n",
        "\n",
        "# merge all and race count\n",
        "#finalTable = pd.merge(occurFrame,tempTable,how=\"right\",on=\"circuitId\")\n",
        "\n",
        "# merge tempTable and results\n",
        "results = pd.read_csv(\"results.csv\")\n",
        "status = pd.read_csv(\"status.csv\")\n",
        "resultsAndStatus = pd.merge(results,status,how=\"left\",on=\"statusId\")\n",
        "tempTable = pd.merge(tempTable,resultsAndStatus, how='left', on='raceId')\n",
        "# drop every value except for 3 and 4, then sum over statusId\n",
        "filteredTable = tempTable[(tempTable['statusId'] == 3) | (tempTable['statusId'] == 4)]\n",
        "\n",
        "# calculate accidents for each circuit\n",
        "accidents = filteredTable.groupby(['circuitId'])['statusId'].sum()\n",
        "accidentsFrame = accidents.to_frame(name='Total_accidents')\n",
        "\n",
        "# calculate accidents per year \n",
        "accPerYear = filteredTable.groupby(['year'])['statusId'].sum()\n",
        "accPerYearFrame = accPerYear.to_frame(name='Accidents_per_year')\n",
        "#print(accPerYear)\n",
        "\n",
        "finalTable = pd.merge(occurFrame,tempTable,how=\"right\",on=\"circuitId\")\n",
        "finalTable = pd.merge(accidentsFrame, finalTable,how=\"right\",on=\"circuitId\")\n",
        "finalTable = pd.merge(accPerYearFrame,finalTable,how=\"right\",on=\"year\")\n",
        "\n",
        "finalTable['image'] = 'data/'+finalTable['circuitRef'] + '.png'\n",
        "print(finalTable)\n",
        "finalTable.to_csv('filteredTable.csv')\n",
        "#circuits[['circuitId','url']].to_csv(\"url_circuits.csv\")\n"
      ]
    },
    {
      "cell_type": "code",
      "source": [
        "constructor = pd.read_csv('constructors.csv')\n",
        "constructor_results = pd.read_csv('constructor_results.csv')\n",
        "constructor_standings = pd.read_csv('constructor_standings.csv')\n",
        "\n",
        "constructorTable = pd.merge(constructor_standings, constructor, how='right', on='constructorId')\n",
        "#constructorTable = pd.merge(constructor_results, constructorTable, how='right', on='constructorId')\n",
        "\n",
        "#calculate wins per year (constructor)\n",
        "tempTable = pd.merge(constructorTable, races, how='left', on='raceId')\n",
        "winsPerYear = tempTable.groupby(['constructorId','year'])['wins'].sum()\n",
        "winsPerYearFrame = winsPerYear.to_frame(name='Wins_per_year').reset_index()\n",
        "\n",
        "\n",
        "# calculate total wins (constructor)\n",
        "totalWins = constructorTable.groupby(['constructorId'])['wins'].sum()\n",
        "totalWinsFrame = totalWins.to_frame(name='Total_wins')\n",
        "\n",
        "constructorTable = pd.merge(totalWinsFrame, constructorTable, how='right', on='constructorId')\n",
        "constructorTable = pd.merge(winsPerYearFrame, constructorTable, how='right', on='constructorId')\n",
        "\n",
        "constructorTable.to_csv('constructorTable.csv')"
      ],
      "metadata": {
        "id": "KA_xFp5mF3Dz"
      },
      "execution_count": null,
      "outputs": []
    },
    {
      "cell_type": "code",
      "source": [
        "driver = pd.read_csv('drivers.csv')\n",
        "driver_standings = pd.read_csv('driver_standings.csv')\n",
        "\n",
        "driverTable = pd.merge(driver_standings, driver, how='right', on='driverId')\n",
        "\n",
        "# join forename + surname\n",
        "\n",
        "driverTable['name'] = driverTable['forename']+' '+driverTable['surname']\n",
        "\n",
        "# calculate total wins (driver)\n",
        "totalWins = driverTable.groupby(['driverId'])['wins'].sum()\n",
        "totalWinsFrame = totalWins.to_frame(name='Total_wins')\n",
        "\n",
        "# calculate wins per year (driver)\n",
        "tempTable = pd.merge(driverTable, races, how='left', on='raceId')\n",
        "winsPerYear = tempTable.groupby(['driverId','year'])['wins'].sum()\n",
        "winsPerYearFrame = winsPerYear.to_frame(name='Wins_per_year').reset_index()\n",
        "\n",
        "driverTable = pd.merge(totalWinsFrame, driverTable, how='right', on='driverId')\n",
        "driverTable = pd.merge(winsPerYearFrame, driverTable, how='right', on='driverId')\n",
        "\n",
        "driverTable.to_csv('driverTable.csv')"
      ],
      "metadata": {
        "id": "oPaveEbI6uVt"
      },
      "execution_count": null,
      "outputs": []
    },
    {
      "cell_type": "code",
      "source": [
        "'''dic = {}\n",
        "for index, row in finalTable.iterrows():\n",
        "  currentRowCountry = row['country']\n",
        "  currentRowRaceCount = row['Race_count'] \n",
        "  if currentRowCountry in dic:\n",
        "    dic[currentRowCountry] = currentRowRaceCount\n",
        "  else: \n",
        "    dic[currentRowCountry] = currentRowRaceCount\n",
        "\n",
        "print(dic)'''"
      ],
      "metadata": {
        "id": "jzCX8p_7TdzH",
        "colab": {
          "base_uri": "https://localhost:8080/"
        },
        "outputId": "4d0b988d-6919-44dc-abb1-271322a0d35a"
      },
      "execution_count": null,
      "outputs": [
        {
          "output_type": "stream",
          "name": "stdout",
          "text": [
            "{'Australia': 16882, 'Malaysia': 7828, 'Bahrain': 7600, 'Spain': 27542, 'Turkey': 1728, 'Monaco': 110432, 'Canada': 43158, 'France': 20835, 'UK': 85524, 'Germany': 74626, 'Hungary': 32227, 'Belgium': 68879, 'Italy': 150630, 'Singapore': 3367, 'Japan': 23892, 'China': 5472, 'Brazil': 37102, 'USA': 26086, 'UAE': 3878, 'Argentina': 8960, 'Portugal': 4927, 'South Africa': 10345, 'Mexico': 10978, 'Korea': 376, 'Netherlands': 22656, 'Sweden': 954, 'Austria': 31016, 'Morocco': 25, 'Switzerland': 500, 'India': 210, 'Russia': 1304, 'Azerbaijan': 732, 'Saudi Arabia': 80, 'Qatar': 20}\n"
          ]
        }
      ]
    },
    {
      "cell_type": "code",
      "source": [
        "print(finalTable[['country', 'Race_count']])"
      ],
      "metadata": {
        "colab": {
          "base_uri": "https://localhost:8080/"
        },
        "id": "wDh_SNLIM2ZK",
        "outputId": "cec0a381-dab0-40e7-c4d2-eb30f517f2b5"
      },
      "execution_count": null,
      "outputs": [
        {
          "output_type": "stream",
          "name": "stdout",
          "text": [
            "         country  Race_count\n",
            "0      Australia          25\n",
            "1      Australia          25\n",
            "2      Australia          25\n",
            "3      Australia          25\n",
            "4      Australia          25\n",
            "...          ...         ...\n",
            "25664        USA           1\n",
            "25665        USA           1\n",
            "25666        USA           1\n",
            "25667        USA           1\n",
            "25668        USA           1\n",
            "\n",
            "[25669 rows x 2 columns]\n"
          ]
        }
      ]
    },
    {
      "cell_type": "code",
      "source": [],
      "metadata": {
        "id": "2tT4ggNrPvlC"
      },
      "execution_count": null,
      "outputs": []
    }
  ]
}